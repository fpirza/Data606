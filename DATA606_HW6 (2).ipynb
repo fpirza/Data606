{
 "cells": [
  {
   "cell_type": "code",
   "execution_count": null,
   "metadata": {
    "id": "TsqAqjjfYelt"
   },
   "outputs": [],
   "source": [
    "import pandas as pd\n",
    "import numpy as np\n",
    "import pandas as pd\n",
    "import matplotlib.pyplot as plt\n",
    "import arviz as az\n",
    "from sklearn.linear_model import LogisticRegression\n",
    "import pymc3 as pm"
   ]
  },
  {
   "cell_type": "markdown",
   "metadata": {
    "id": "WjI4d1X21kUb"
   },
   "source": [
    "## The Dataset\n",
    "\n",
    "You can download the dataset from here: https://www.kaggle.com/datasets/uciml/pima-indians-diabetes-database"
   ]
  },
  {
   "cell_type": "code",
   "execution_count": 61,
   "metadata": {
    "id": "R-NmkziT12EI"
   },
   "outputs": [
    {
     "name": "stdout",
     "output_type": "stream",
     "text": [
      "   Pregnancies  Glucose  BloodPressure  SkinThickness  Insulin   BMI  \\\n",
      "0            6      148             72             35        0  33.6   \n",
      "1            1       85             66             29        0  26.6   \n",
      "2            8      183             64              0        0  23.3   \n",
      "3            1       89             66             23       94  28.1   \n",
      "4            0      137             40             35      168  43.1   \n",
      "\n",
      "   DiabetesPedigreeFunction  Age  Outcome  \n",
      "0                     0.627   50        1  \n",
      "1                     0.351   31        0  \n",
      "2                     0.672   32        1  \n",
      "3                     0.167   21        0  \n",
      "4                     2.288   33        1  \n"
     ]
    }
   ],
   "source": [
    "## 1 point\n",
    "\n",
    "## ToDo: read the csv file into a dataframe and show the first 5 rows\n",
    "\n",
    "path_file = r\"/Users/faizahpirzada/Downloads/diabetes (1).csv\"\n",
    "df = pd.read_csv(r\"/Users/faizahpirzada/Downloads/diabetes (1).csv\", nrows=5)\n",
    "print(df)\n"
   ]
  },
  {
   "cell_type": "code",
   "execution_count": 69,
   "metadata": {
    "id": "wqiy_MHL2Cqi"
   },
   "outputs": [
    {
     "name": "stdout",
     "output_type": "stream",
     "text": [
      "-10.060784711103082\n",
      "[0.07302964 0.88847204 0.10197598 0.07499278 0.03569998 0.09401083\n",
      " 0.00261923 0.26002643]\n"
     ]
    }
   ],
   "source": [
    "## 3 points\n",
    "\n",
    "## Assign the Outcome variable to y and the rest to X.\n",
    "\n",
    "\n",
    "X = np.array(['Pregnancies', 'Glucose', 'BloodPressure', 'SkinThickness', 'Insulin', 'BMI', 'DiabetesPedigreeFunction', 'Age'])\n",
    "\n",
    "y = np.array('Outcome')\n",
    "\n",
    "## USe LogisticRegression to fit the data and print out the intercept and the coefficients\n",
    "\n",
    "X = df.iloc[:, :-1].values\n",
    "y = df.iloc[:, 1].values\n",
    "\n",
    "from sklearn.model_selection import train_test_split\n",
    "X_train, X_test, y_train, y_test = train_test_split(X, y, test_size=0.2, random_state=0)\n",
    "\n",
    "from sklearn.linear_model import LinearRegression\n",
    "regressor = LinearRegression()\n",
    "regressor.fit(X_train, y_train)\n",
    "\n",
    "print(regressor.intercept_)\n",
    "\n",
    "print(regressor.coef_)\n",
    "\n",
    "#Intercept = -10.060784711103082\n",
    "\n",
    "#Coefficients = [0.07302964 0.88847204 0.10197598 0.07499278 0.03569998 0.09401083 0.00261923 0.26002643]\n"
   ]
  },
  {
   "cell_type": "code",
   "execution_count": null,
   "metadata": {
    "id": "uX08XT0yY71T"
   },
   "outputs": [],
   "source": [
    "## 2 points\n",
    "\n",
    "## Explain what the code is doing:\n",
    "    #This code is running a logistic regression model to test the likelihood of the outcome varibale based off the variables in the dataframe.  \n",
    "    \n",
    "## What are the prior probabilities of the intercept and coefficients?\n",
    "    #0.1 and 0.125\n",
    "# Which likelihood distribution has been used?\n",
    "    #Binomial Distribution\n",
    "## What does pm.invlogit(linreg) mean?\n",
    "    ##This code is mapping the probability values from (0,1) to real numbers-- it determines the inverse of the standard logistic funciton. \n",
    "## What is map_est?\n",
    "    ##The MAP estimate optimizes all the parameters to maximize posterior probability. Printing this function shows only the variables that have been optimized and not the original variables. \n",
    "\n",
    "with pm.Model() as logreg_model:\n",
    "  \n",
    "    w0 = pm.Normal('w0', mu=0, sd=100)\n",
    "    w1 = pm.Normal('w1', mu=0, sd=100)\n",
    "    w2 = pm.Normal('w2', mu=0, sd=100)\n",
    "    w3 = pm.Normal('w3', mu=0, sd=100)\n",
    "    w4 = pm.Normal('w4', mu=0, sd=100)\n",
    "    w5 = pm.Normal('w5', mu=0, sd=100)\n",
    "    w6 = pm.Normal('w6', mu=0, sd=100)\n",
    "    w7 = pm.Normal('w7', mu=0, sd=100)\n",
    "    w8 = pm.Normal('w8', mu=0, sd=100)\n",
    "   \n",
    "    \n",
    "    linreg = w0 * np.ones(diab_df.shape[0]) + w1 * diab_df.Pregnancies.values + w2 * diab_df.Glucose.values \\\n",
    "    + w3 * diab_df.BloodPressure.values + w4 * diab_df.SkinThickness.values + w5 * diab_df.Insulin.values + \\\n",
    "    w6 * diab_df.BMI.values + w7 * diab_df.DiabetesPedigreeFunction.values + w8 * diab_df.Age.values\n",
    "    p_outcome = pm.invlogit(linreg)\n",
    "\n",
    "    likelihood = pm.Bernoulli('likelihood', p_outcome, observed=diab_df.Outcome.values)\n",
    "\n",
    "    \n",
    "    map_est= pm.find_MAP()\n",
    "    print(map_est)"
   ]
  },
  {
   "cell_type": "code",
   "execution_count": null,
   "metadata": {
    "id": "md1O1OgXyQk3"
   },
   "outputs": [],
   "source": [
    "## 2 points\n",
    "\n",
    "## ToDo: draw 400 samples using pm.Metropolis() and assign to the variable trace\n",
    "\n",
    "with pm.Model() as logreg_model:\n",
    "     trace = pm.sample(draws=400, step=pm.Metropolis(vars=[w0, w1, w2, w3, w4, w5, w6, w7, w8])\n",
    "\n",
    "az.plot_posterior(trace)\n",
    "                       \n",
    "##Explain the output of plot- I am receiving a syntax error when trying to run this code however the arvis package has been installed. This is also happening to me in Google Colab. \n"
   ]
  },
  {
   "cell_type": "code",
   "execution_count": null,
   "metadata": {},
   "outputs": [],
   "source": []
  }
 ],
 "metadata": {
  "colab": {
   "name": "DATA606_HW6.ipynb",
   "provenance": []
  },
  "kernelspec": {
   "display_name": "Python 3 (ipykernel)",
   "language": "python",
   "name": "python3"
  },
  "language_info": {
   "codemirror_mode": {
    "name": "ipython",
    "version": 3
   },
   "file_extension": ".py",
   "mimetype": "text/x-python",
   "name": "python",
   "nbconvert_exporter": "python",
   "pygments_lexer": "ipython3",
   "version": "3.9.10"
  }
 },
 "nbformat": 4,
 "nbformat_minor": 4
}
